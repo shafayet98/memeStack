{
 "cells": [
  {
   "cell_type": "code",
   "execution_count": 3,
   "metadata": {},
   "outputs": [],
   "source": [
    "from tensorflow.keras.models import load_model\n",
    "\n",
    "model = load_model('my_model.h5')"
   ]
  },
  {
   "cell_type": "code",
   "execution_count": 7,
   "metadata": {},
   "outputs": [],
   "source": [
    "from keras_preprocessing import image\n",
    "import numpy as np"
   ]
  },
  {
   "cell_type": "code",
   "execution_count": 11,
   "metadata": {},
   "outputs": [
    {
     "name": "stdout",
     "output_type": "stream",
     "text": [
      "[[1. 0.]]\n"
     ]
    }
   ],
   "source": [
    "# taking testing image from test set\n",
    "path_im_meme_true = 'dataset/test/meme_false/3074.jpg'\n",
    "# path_im_meme_false = 'dataset/test/meme_false/woman.jpg'\n",
    "\n",
    "img1 = image.load_img(path_im_meme_true, target_size=(80, 80))\n",
    "# img2 = image.load_img(path_im_meme_false, target_size=(80, 80))\n",
    "\n",
    "# converting to array\n",
    "imToArr1 = image.img_to_array(img1)\n",
    "# imToArr2 = image.img_to_array(img2)\n",
    "\n",
    "# expanding layer\n",
    "imToArr1 = np.expand_dims(imToArr1, axis=0)\n",
    "# imToArr2 = np.expand_dims(imToArr2, axis=0)\n",
    "\n",
    "# stacking images\n",
    "# images = np.vstack([imToArr1,imToArr2])\n",
    "images = np.vstack([imToArr1])\n",
    "\n",
    "#predicting\n",
    "predicted_class = model.predict(images, batch_size=1)\n",
    "print(predicted_class)"
   ]
  }
 ],
 "metadata": {
  "kernelspec": {
   "display_name": "Python 3",
   "language": "python",
   "name": "python3"
  },
  "language_info": {
   "codemirror_mode": {
    "name": "ipython",
    "version": 3
   },
   "file_extension": ".py",
   "mimetype": "text/x-python",
   "name": "python",
   "nbconvert_exporter": "python",
   "pygments_lexer": "ipython3",
   "version": "3.7.4"
  }
 },
 "nbformat": 4,
 "nbformat_minor": 2
}
