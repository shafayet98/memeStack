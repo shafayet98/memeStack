{
 "cells": [
  {
   "cell_type": "code",
   "execution_count": 1,
   "metadata": {},
   "outputs": [
    {
     "name": "stdout",
     "output_type": "stream",
     "text": [
      "FILE:  462.jpg is corrupt!\n",
      "Successfully Completed Operation! Files Courrupted are  1\n"
     ]
    }
   ],
   "source": [
    "import os\n",
    "import sys\n",
    "from PIL import Image\n",
    "\n",
    "# if len(sys.argv) < 2:\n",
    "#     print(\"Error : Too Few Arguments \\nUsage : python del_unwanted.py $1 \\nwhere $1 = \\\"dir_name\\\" ( where images are stored ) \\nRequires absolute directory path\")\n",
    "#     sys.exit()\n",
    "dirname=\"dataset/train/meme_true\"\n",
    "cnt=0\n",
    "for filename in os.listdir(dirname):\n",
    "    try:\n",
    "        img=Image.open(dirname+\"/\"+filename)\n",
    "    except OSError:\n",
    "        print(\"FILE: \", filename, \"is corrupt!\")\n",
    "        cnt+=1\n",
    "        os.remove(dirname+\"/\"+filename)\n",
    "print(\"Successfully Completed Operation! Files Courrupted are \", cnt)"
   ]
  }
 ],
 "metadata": {
  "kernelspec": {
   "display_name": "Python 3",
   "language": "python",
   "name": "python3"
  },
  "language_info": {
   "codemirror_mode": {
    "name": "ipython",
    "version": 3
   },
   "file_extension": ".py",
   "mimetype": "text/x-python",
   "name": "python",
   "nbconvert_exporter": "python",
   "pygments_lexer": "ipython3",
   "version": "3.7.4"
  }
 },
 "nbformat": 4,
 "nbformat_minor": 2
}
